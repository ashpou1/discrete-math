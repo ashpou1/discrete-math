{
  "nbformat": 4,
  "nbformat_minor": 0,
  "metadata": {
    "colab": {
      "name": "Untitled6.ipynb",
      "provenance": [],
      "authorship_tag": "ABX9TyOLhTMA/D7wUPJAEII8rJj5",
      "include_colab_link": true
    },
    "kernelspec": {
      "name": "python3",
      "display_name": "Python 3"
    },
    "language_info": {
      "name": "python"
    }
  },
  "cells": [
    {
      "cell_type": "markdown",
      "metadata": {
        "id": "view-in-github",
        "colab_type": "text"
      },
      "source": [
        "<a href=\"https://colab.research.google.com/github/ashpou1/discrete-math/blob/main/logic.ipynb\" target=\"_parent\"><img src=\"https://colab.research.google.com/assets/colab-badge.svg\" alt=\"Open In Colab\"/></a>"
      ]
    },
    {
      "cell_type": "markdown",
      "metadata": {
        "id": "Mbsa340a_t6N"
      },
      "source": [
        "##LOGIC"
      ]
    },
    {
      "cell_type": "markdown",
      "metadata": {
        "id": "yWVWq8JJACqY"
      },
      "source": [
        "I have certain plan for this week. I do not have alot of college stuff to get done this week. I have plans like going to Arkansa to see fall color in Ochita montains, go to Dallas to get me some gorcery, finish my homework problems of Numbers, finish my project of fencinng my front yard, finish my garage project to convert in to my gym room, get my dog to park everyday. so lets see "
      ]
    },
    {
      "cell_type": "code",
      "metadata": {
        "id": "5g_y0TTg__SX"
      },
      "source": [
        "WillgotoArkansas = False\n",
        "WillgotoDallas = True\n",
        "Finishmyfrontyard = True\n",
        "Finishmygarage = False\n",
        "Finishmynumbers = True"
      ],
      "execution_count": 1,
      "outputs": []
    },
    {
      "cell_type": "markdown",
      "metadata": {
        "id": "ve-wU11PB7qk"
      },
      "source": [
        "lets use \"NOT\" to find the truth value of $\\lnot(a)$"
      ]
    },
    {
      "cell_type": "code",
      "metadata": {
        "colab": {
          "base_uri": "https://localhost:8080/"
        },
        "id": "Qnvc9zpf_Dpl",
        "outputId": "028a74d8-abe5-4875-e639-d778468b4db7"
      },
      "source": [
        "not(WillgotoArkansas)"
      ],
      "execution_count": 2,
      "outputs": [
        {
          "output_type": "execute_result",
          "data": {
            "text/plain": [
              "True"
            ]
          },
          "metadata": {},
          "execution_count": 2
        }
      ]
    },
    {
      "cell_type": "markdown",
      "metadata": {
        "id": "zbPk4FTjDVDY"
      },
      "source": [
        "Lets use \"`AND`\" to find the truth value of $b$ $and$ $e$"
      ]
    },
    {
      "cell_type": "code",
      "metadata": {
        "colab": {
          "base_uri": "https://localhost:8080/"
        },
        "id": "N1mBrLrYDj_s",
        "outputId": "2c9effdb-be5a-434d-9904-c4514cbb153b"
      },
      "source": [
        "(WillgotoDallas) and (Finishmynumbers)"
      ],
      "execution_count": 3,
      "outputs": [
        {
          "output_type": "execute_result",
          "data": {
            "text/plain": [
              "True"
            ]
          },
          "metadata": {},
          "execution_count": 3
        }
      ]
    },
    {
      "cell_type": "markdown",
      "metadata": {
        "id": "whJW1-4VHRnD"
      },
      "source": [
        "Lets use \"`OR`\" to find the truth value of $c$ $or$ $d$ "
      ]
    },
    {
      "cell_type": "code",
      "metadata": {
        "colab": {
          "base_uri": "https://localhost:8080/"
        },
        "id": "i2Qx3-caIANK",
        "outputId": "6db8defe-40d7-4406-d82c-4482cc0d27d2"
      },
      "source": [
        "(Finishmyfrontyard) or (Finishmygarage)"
      ],
      "execution_count": 4,
      "outputs": [
        {
          "output_type": "execute_result",
          "data": {
            "text/plain": [
              "True"
            ]
          },
          "metadata": {},
          "execution_count": 4
        }
      ]
    }
  ]
}