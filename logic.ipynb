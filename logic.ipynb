{
  "nbformat": 4,
  "nbformat_minor": 0,
  "metadata": {
    "colab": {
      "name": "Untitled6.ipynb",
      "provenance": [],
      "authorship_tag": "ABX9TyOSgyTAeVtWHJomms12+fZc",
      "include_colab_link": true
    },
    "kernelspec": {
      "name": "python3",
      "display_name": "Python 3"
    },
    "language_info": {
      "name": "python"
    }
  },
  "cells": [
    {
      "cell_type": "markdown",
      "metadata": {
        "id": "view-in-github",
        "colab_type": "text"
      },
      "source": [
        "<a href=\"https://colab.research.google.com/github/ashpou1/discrete-math/blob/main/logic.ipynb\" target=\"_parent\"><img src=\"https://colab.research.google.com/assets/colab-badge.svg\" alt=\"Open In Colab\"/></a>"
      ]
    },
    {
      "cell_type": "markdown",
      "metadata": {
        "id": "Mbsa340a_t6N"
      },
      "source": [
        "##LOGIC"
      ]
    },
    {
      "cell_type": "markdown",
      "metadata": {
        "id": "yWVWq8JJACqY"
      },
      "source": [
        "I have certain plan for this week. I do not have alot of college stuff to get done this week. I have plans like going to Arkansa to see fall color in Ochita montains, go to Dallas to get me some gorcery, finish my homework problems of Numbers, finish my project of fencinng my front yard, finish my garage project to convert in to my gym room, get my dog to park everyday. So i will call them $a$,$b$,$c$,$d$,$e$ respectively. so lets see "
      ]
    },
    {
      "cell_type": "code",
      "metadata": {
        "id": "5g_y0TTg__SX"
      },
      "source": [
        "WillgotoArkansas = False\n",
        "WillgotoDallas = True\n",
        "Finishmyfrontyard = True\n",
        "Finishmygarage = False\n",
        "Finishmynumbers = True"
      ],
      "execution_count": 1,
      "outputs": []
    },
    {
      "cell_type": "markdown",
      "metadata": {
        "id": "ve-wU11PB7qk"
      },
      "source": [
        "lets use \"NOT\" to find the truth value of $\\lnot(a)$"
      ]
    },
    {
      "cell_type": "code",
      "metadata": {
        "colab": {
          "base_uri": "https://localhost:8080/"
        },
        "id": "Qnvc9zpf_Dpl",
        "outputId": "f2866700-9599-44cc-e8ad-2cd29677ae77"
      },
      "source": [
        "not(WillgotoArkansas)"
      ],
      "execution_count": 2,
      "outputs": [
        {
          "output_type": "execute_result",
          "data": {
            "text/plain": [
              "True"
            ]
          },
          "metadata": {},
          "execution_count": 2
        }
      ]
    },
    {
      "cell_type": "markdown",
      "metadata": {
        "id": "zbPk4FTjDVDY"
      },
      "source": [
        "Lets use \"`AND`\" to find the truth value of \n",
        "\n",
        "$$b \\land e$$"
      ]
    },
    {
      "cell_type": "code",
      "metadata": {
        "colab": {
          "base_uri": "https://localhost:8080/"
        },
        "id": "N1mBrLrYDj_s",
        "outputId": "7e5b3626-d3ac-4cf0-a598-1d5c75081f11"
      },
      "source": [
        "(WillgotoDallas) and (Finishmynumbers)"
      ],
      "execution_count": 3,
      "outputs": [
        {
          "output_type": "execute_result",
          "data": {
            "text/plain": [
              "True"
            ]
          },
          "metadata": {},
          "execution_count": 3
        }
      ]
    },
    {
      "cell_type": "markdown",
      "metadata": {
        "id": "whJW1-4VHRnD"
      },
      "source": [
        "Lets use \"`OR`\" to find the truth value of \n",
        "\n",
        "$$c \\lor d$$"
      ]
    },
    {
      "cell_type": "code",
      "metadata": {
        "colab": {
          "base_uri": "https://localhost:8080/"
        },
        "id": "i2Qx3-caIANK",
        "outputId": "affbbcc8-bf8a-415d-b5a9-5023820a9c6d"
      },
      "source": [
        "(Finishmyfrontyard) or (Finishmygarage)"
      ],
      "execution_count": 4,
      "outputs": [
        {
          "output_type": "execute_result",
          "data": {
            "text/plain": [
              "True"
            ]
          },
          "metadata": {},
          "execution_count": 4
        }
      ]
    },
    {
      "cell_type": "markdown",
      "metadata": {
        "id": "oxLTlS9uFew-"
      },
      "source": [
        "Lets do some equivalent of $WillgotoDallas$ to $WillgotoArkansas$\n",
        "\n",
        "$$b \\Rightarrow a$$"
      ]
    },
    {
      "cell_type": "code",
      "metadata": {
        "id": "izWFRJFHFsLV",
        "outputId": "b7d923a1-80ef-4cab-db90-fa1f492406e4",
        "colab": {
          "base_uri": "https://localhost:8080/"
        }
      },
      "source": [
        "def implies(b,a):\n",
        "  return not(b) or (a)\n",
        "implies(WillgotoDallas,WillgotoArkansas)"
      ],
      "execution_count": 11,
      "outputs": [
        {
          "output_type": "execute_result",
          "data": {
            "text/plain": [
              "False"
            ]
          },
          "metadata": {},
          "execution_count": 11
        }
      ]
    },
    {
      "cell_type": "markdown",
      "metadata": {
        "id": "h-qoo3q2Gbz_"
      },
      "source": [
        "lets work for truth table for $not(willgotoDallas NOT willgotoArknasas)equivalent to (WillgotoArkansasORfinishmyfrontyard)$\n"
      ]
    },
    {
      "cell_type": "markdown",
      "metadata": {
        "id": "QDb09crlLedO"
      },
      "source": [
        "$$\\lnot(a\\oplus b) \\Rightarrow (b\\lor c)$$:"
      ]
    },
    {
      "cell_type": "markdown",
      "metadata": {
        "id": "Yb8Np9vbLf4m"
      },
      "source": [
        ""
      ]
    },
    {
      "cell_type": "code",
      "metadata": {
        "id": "1kML3mW-LnXP",
        "outputId": "b482b9c9-2e43-44ca-e1b4-a11f53718592",
        "colab": {
          "base_uri": "https://localhost:8080/"
        }
      },
      "source": [
        "values = [True,False]\n",
        "table = []\n",
        "\n",
        "for a in values:\n",
        "  for b in values:\n",
        "    for c in values: \n",
        "      row =[]\n",
        "      row.append(a)\n",
        "      row.append(b)\n",
        "      row.append(c)\n",
        "      row.append(not(a) or b)\n",
        "      row.append(b and c)\n",
        "      row.append(implies(not(a) or b,b and c))\n",
        "      table.append(row)\n",
        "print(table)"
      ],
      "execution_count": 14,
      "outputs": [
        {
          "output_type": "stream",
          "name": "stdout",
          "text": [
            "[[True, True, True, True, True, True], [True, True, False, True, False, False], [True, False, True, False, False, True], [True, False, False, False, False, True], [False, True, True, True, True, True], [False, True, False, True, False, False], [False, False, True, True, False, False], [False, False, False, True, False, False]]\n"
          ]
        }
      ]
    },
    {
      "cell_type": "code",
      "metadata": {
        "id": "3dNgGcGlLd-G"
      },
      "source": [
        ""
      ],
      "execution_count": null,
      "outputs": []
    }
  ]
}