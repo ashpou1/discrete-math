{
  "nbformat": 4,
  "nbformat_minor": 0,
  "metadata": {
    "colab": {
      "name": "Untitled6.ipynb",
      "provenance": [],
      "authorship_tag": "ABX9TyOXXrzykuKrUgVeH1Y1yXxv",
      "include_colab_link": true
    },
    "kernelspec": {
      "name": "python3",
      "display_name": "Python 3"
    },
    "language_info": {
      "name": "python"
    }
  },
  "cells": [
    {
      "cell_type": "markdown",
      "metadata": {
        "id": "view-in-github",
        "colab_type": "text"
      },
      "source": [
        "<a href=\"https://colab.research.google.com/github/ashpou1/discrete-math/blob/main/logic2nd.ipynb\" target=\"_parent\"><img src=\"https://colab.research.google.com/assets/colab-badge.svg\" alt=\"Open In Colab\"/></a>"
      ]
    },
    {
      "cell_type": "markdown",
      "source": [
        "# Project Part # : CPSMA 3133 [Dr. Jacob's](https://github.com/nurfnick) Discrete Mathematics \n",
        "\n",
        "## Project Name: Logic and Proofs\n",
        "\n",
        "### Student's Name and ID: Ashok Sharma Poudel 218380\n"
      ],
      "metadata": {
        "id": "PK4a39WrARxo"
      }
    },
    {
      "cell_type": "markdown",
      "metadata": {
        "id": "Mbsa340a_t6N"
      },
      "source": [
        "##LOGIC"
      ]
    },
    {
      "cell_type": "markdown",
      "metadata": {
        "id": "yWVWq8JJACqY"
      },
      "source": [
        "I have certain plan for this week. I do not have alot of college stuff to get done this week. I have plans like going to Arkansa to see fall color in Ochita montains, go to Dallas to get me some gorcery, finish my homework problems of Numbers, finish my project of fencinng my front yard, finish my garage project to convert in to my gym room, get my dog to park everyday. So i will call them $a$,$b$,$c$,$d$,$e$ respectively. so lets see "
      ]
    },
    {
      "cell_type": "code",
      "metadata": {
        "id": "5g_y0TTg__SX"
      },
      "source": [
        "WillgotoArkansas = False\n",
        "WillgotoDallas = True\n",
        "Finishmyfrontyard = True\n",
        "Finishmygarage = False\n",
        "Finishmynumbers = True"
      ],
      "execution_count": null,
      "outputs": []
    },
    {
      "cell_type": "markdown",
      "metadata": {
        "id": "ve-wU11PB7qk"
      },
      "source": [
        "lets use \"NOT\" to find the truth value of $\\lnot(a)$"
      ]
    },
    {
      "cell_type": "code",
      "metadata": {
        "colab": {
          "base_uri": "https://localhost:8080/"
        },
        "id": "Qnvc9zpf_Dpl",
        "outputId": "7962b15d-d330-41c0-c999-4abdba486b0f"
      },
      "source": [
        "not(WillgotoArkansas)"
      ],
      "execution_count": null,
      "outputs": [
        {
          "output_type": "execute_result",
          "data": {
            "text/plain": [
              "True"
            ]
          },
          "metadata": {},
          "execution_count": 8
        }
      ]
    },
    {
      "cell_type": "markdown",
      "metadata": {
        "id": "zbPk4FTjDVDY"
      },
      "source": [
        "Lets use \"`AND`\" to find the truth value of \n",
        "\n",
        "$$b \\land e$$"
      ]
    },
    {
      "cell_type": "code",
      "metadata": {
        "colab": {
          "base_uri": "https://localhost:8080/"
        },
        "id": "N1mBrLrYDj_s",
        "outputId": "8e1f22ad-fb01-4281-9346-a82f4a3cee8c"
      },
      "source": [
        "(WillgotoDallas) and (Finishmynumbers)"
      ],
      "execution_count": null,
      "outputs": [
        {
          "output_type": "execute_result",
          "data": {
            "text/plain": [
              "True"
            ]
          },
          "metadata": {},
          "execution_count": 9
        }
      ]
    },
    {
      "cell_type": "markdown",
      "metadata": {
        "id": "whJW1-4VHRnD"
      },
      "source": [
        "Lets use \"`OR`\" to find the truth value of \n",
        "\n",
        "$$c \\lor d$$"
      ]
    },
    {
      "cell_type": "code",
      "metadata": {
        "colab": {
          "base_uri": "https://localhost:8080/"
        },
        "id": "i2Qx3-caIANK",
        "outputId": "74bfaf8f-ee37-4cc3-a02d-44178c45130a"
      },
      "source": [
        "(Finishmyfrontyard) or (Finishmygarage)"
      ],
      "execution_count": null,
      "outputs": [
        {
          "output_type": "execute_result",
          "data": {
            "text/plain": [
              "True"
            ]
          },
          "metadata": {},
          "execution_count": 10
        }
      ]
    },
    {
      "cell_type": "markdown",
      "metadata": {
        "id": "oxLTlS9uFew-"
      },
      "source": [
        "Lets do some equivalent of $WillgotoDallas$ to $WillgotoArkansas$\n",
        "\n",
        "$$b \\Rightarrow a$$"
      ]
    },
    {
      "cell_type": "code",
      "metadata": {
        "id": "izWFRJFHFsLV",
        "outputId": "7dadd470-cf56-41c1-adbe-331b2963b807",
        "colab": {
          "base_uri": "https://localhost:8080/"
        }
      },
      "source": [
        "def implies(b,a):\n",
        "  return not(b) or (a)\n",
        "implies(WillgotoDallas,WillgotoArkansas)"
      ],
      "execution_count": null,
      "outputs": [
        {
          "output_type": "execute_result",
          "data": {
            "text/plain": [
              "False"
            ]
          },
          "metadata": {},
          "execution_count": 11
        }
      ]
    },
    {
      "cell_type": "markdown",
      "metadata": {
        "id": "h-qoo3q2Gbz_"
      },
      "source": [
        "lets work for truth table for $not(willgotoDallas NOT willgotoArknasas)equivalent to (WillgotoArkansasORfinishmyfrontyard)$\n"
      ]
    },
    {
      "cell_type": "markdown",
      "metadata": {
        "id": "QDb09crlLedO"
      },
      "source": [
        "$$\\lnot(a\\oplus b) \\Rightarrow (b\\lor c)$$:"
      ]
    },
    {
      "cell_type": "code",
      "metadata": {
        "id": "1kML3mW-LnXP",
        "outputId": "1d248aa9-768b-4ac0-fe99-a062a8186fa3",
        "colab": {
          "base_uri": "https://localhost:8080/"
        }
      },
      "source": [
        "values = [True,False]\n",
        "table = []\n",
        "\n",
        "for c in values:\n",
        "  for b in values:\n",
        "    for a in values: \n",
        "      row =[]\n",
        "      row.append(a)\n",
        "      row.append(b)\n",
        "      row.append(c)\n",
        "      row.append(a ^ b)\n",
        "      row.append(not(a ^ b))\n",
        "      row.append(b or c)\n",
        "      row.append(implies(not(a ^ b),b or c))\n",
        "      table.append(row)\n",
        "print(table)"
      ],
      "execution_count": null,
      "outputs": [
        {
          "output_type": "stream",
          "name": "stdout",
          "text": [
            "[[True, True, True, False, True, True, True], [False, True, True, True, False, True, True], [True, False, True, True, False, True, True], [False, False, True, False, True, True, True], [True, True, False, False, True, True, True], [False, True, False, True, False, True, True], [True, False, False, True, False, False, True], [False, False, False, False, True, False, False]]\n"
          ]
        }
      ]
    },
    {
      "cell_type": "code",
      "metadata": {
        "id": "3dNgGcGlLd-G",
        "colab": {
          "base_uri": "https://localhost:8080/",
          "height": 300
        },
        "outputId": "abc2e8cf-d464-4b00-f0f5-5c684d8fbb9a"
      },
      "source": [
        "import pandas as pd\n",
        "\n",
        "df = pd.DataFrame(table,columns = ['c','b','a','$a\\oplus b$','$\\not(a\\oplus b)$','$b\\lor c$','$\\lnot(a\\oplus b) \\Rightarrow (b\\lor c)$'] )\n",
        "df"
      ],
      "execution_count": null,
      "outputs": [
        {
          "output_type": "execute_result",
          "data": {
            "text/html": [
              "<div>\n",
              "<style scoped>\n",
              "    .dataframe tbody tr th:only-of-type {\n",
              "        vertical-align: middle;\n",
              "    }\n",
              "\n",
              "    .dataframe tbody tr th {\n",
              "        vertical-align: top;\n",
              "    }\n",
              "\n",
              "    .dataframe thead th {\n",
              "        text-align: right;\n",
              "    }\n",
              "</style>\n",
              "<table border=\"1\" class=\"dataframe\">\n",
              "  <thead>\n",
              "    <tr style=\"text-align: right;\">\n",
              "      <th></th>\n",
              "      <th>c</th>\n",
              "      <th>b</th>\n",
              "      <th>a</th>\n",
              "      <th>$a\\oplus b$</th>\n",
              "      <th>$\\lnot(a\\loplus b)$</th>\n",
              "      <th>$b\\lor c$</th>\n",
              "      <th>$\\lnot(a\\oplus b) \\Rightarrow (b\\lor c)$</th>\n",
              "    </tr>\n",
              "  </thead>\n",
              "  <tbody>\n",
              "    <tr>\n",
              "      <th>0</th>\n",
              "      <td>True</td>\n",
              "      <td>True</td>\n",
              "      <td>True</td>\n",
              "      <td>False</td>\n",
              "      <td>True</td>\n",
              "      <td>True</td>\n",
              "      <td>True</td>\n",
              "    </tr>\n",
              "    <tr>\n",
              "      <th>1</th>\n",
              "      <td>False</td>\n",
              "      <td>True</td>\n",
              "      <td>True</td>\n",
              "      <td>True</td>\n",
              "      <td>False</td>\n",
              "      <td>True</td>\n",
              "      <td>True</td>\n",
              "    </tr>\n",
              "    <tr>\n",
              "      <th>2</th>\n",
              "      <td>True</td>\n",
              "      <td>False</td>\n",
              "      <td>True</td>\n",
              "      <td>True</td>\n",
              "      <td>False</td>\n",
              "      <td>True</td>\n",
              "      <td>True</td>\n",
              "    </tr>\n",
              "    <tr>\n",
              "      <th>3</th>\n",
              "      <td>False</td>\n",
              "      <td>False</td>\n",
              "      <td>True</td>\n",
              "      <td>False</td>\n",
              "      <td>True</td>\n",
              "      <td>True</td>\n",
              "      <td>True</td>\n",
              "    </tr>\n",
              "    <tr>\n",
              "      <th>4</th>\n",
              "      <td>True</td>\n",
              "      <td>True</td>\n",
              "      <td>False</td>\n",
              "      <td>False</td>\n",
              "      <td>True</td>\n",
              "      <td>True</td>\n",
              "      <td>True</td>\n",
              "    </tr>\n",
              "    <tr>\n",
              "      <th>5</th>\n",
              "      <td>False</td>\n",
              "      <td>True</td>\n",
              "      <td>False</td>\n",
              "      <td>True</td>\n",
              "      <td>False</td>\n",
              "      <td>True</td>\n",
              "      <td>True</td>\n",
              "    </tr>\n",
              "    <tr>\n",
              "      <th>6</th>\n",
              "      <td>True</td>\n",
              "      <td>False</td>\n",
              "      <td>False</td>\n",
              "      <td>True</td>\n",
              "      <td>False</td>\n",
              "      <td>False</td>\n",
              "      <td>True</td>\n",
              "    </tr>\n",
              "    <tr>\n",
              "      <th>7</th>\n",
              "      <td>False</td>\n",
              "      <td>False</td>\n",
              "      <td>False</td>\n",
              "      <td>False</td>\n",
              "      <td>True</td>\n",
              "      <td>False</td>\n",
              "      <td>False</td>\n",
              "    </tr>\n",
              "  </tbody>\n",
              "</table>\n",
              "</div>"
            ],
            "text/plain": [
              "       c      b  ...  $b\\lor c$  $\\lnot(a\\oplus b) \\Rightarrow (b\\lor c)$\n",
              "0   True   True  ...       True                                      True\n",
              "1  False   True  ...       True                                      True\n",
              "2   True  False  ...       True                                      True\n",
              "3  False  False  ...       True                                      True\n",
              "4   True   True  ...       True                                      True\n",
              "5  False   True  ...       True                                      True\n",
              "6   True  False  ...      False                                      True\n",
              "7  False  False  ...      False                                     False\n",
              "\n",
              "[8 rows x 7 columns]"
            ]
          },
          "metadata": {},
          "execution_count": 13
        }
      ]
    },
    {
      "cell_type": "markdown",
      "source": [
        "##Proof"
      ],
      "metadata": {
        "id": "em7bznze1l-a"
      }
    },
    {
      "cell_type": "markdown",
      "source": [
        "lets use this equation.\n",
        "$$y=2x-10$$\n"
      ],
      "metadata": {
        "id": "ZrPenXPz1znr"
      }
    },
    {
      "cell_type": "markdown",
      "source": [
        "given equation have intercept\n",
        " $(0,-10)$"
      ],
      "metadata": {
        "id": "TZA6WJ0o3vZw"
      }
    },
    {
      "cell_type": "markdown",
      "source": [
        "now i will plot given equation in graph using plt.plot"
      ],
      "metadata": {
        "id": "OTOULarf2ixd"
      }
    },
    {
      "cell_type": "code",
      "source": [
        "import matplotlib.pyplot as plt\n",
        "import numpy as np\n",
        "\n",
        "\n",
        "plt.plot(x,2*x-10)\n",
        "plt.scatter(0,-10, c='red',s = 40)\n",
        "plt.scatter(10,0,c='red',s = 40)\n",
        "plt.show()"
      ],
      "metadata": {
        "id": "qIs6OZIA1gXI",
        "outputId": "a7c900b8-dc6c-43e0-901c-4f869a2fd57e",
        "colab": {
          "base_uri": "https://localhost:8080/",
          "height": 265
        }
      },
      "execution_count": null,
      "outputs": [
        {
          "output_type": "display_data",
          "data": {
            "image/png": "[encoded data removed]",
            "text/plain": [
              "<Figure size 432x288 with 1 Axes>"
            ]
          },
          "metadata": {
            "needs_background": "light"
          }
        }
      ]
    },
    {
      "cell_type": "markdown",
      "source": [
        "lets check of (0,-10) is the y-intercept of given equation $$y=2x-10$$"
      ],
      "metadata": {
        "id": "jcUIkREH59Xe"
      }
    },
    {
      "cell_type": "markdown",
      "source": [
        "Using python check\n"
      ],
      "metadata": {
        "id": "ix6-eDpA6Q_O"
      }
    },
    {
      "cell_type": "code",
      "source": [
        "-10==2*0-10"
      ],
      "metadata": {
        "id": "kgq-kt8x56wx",
        "outputId": "9f0742c5-b895-4392-b313-669cb65632b3",
        "colab": {
          "base_uri": "https://localhost:8080/"
        }
      },
      "execution_count": null,
      "outputs": [
        {
          "output_type": "execute_result",
          "data": {
            "text/plain": [
              "True"
            ]
          },
          "metadata": {},
          "execution_count": 24
        }
      ]
    },
    {
      "cell_type": "markdown",
      "source": [
        "we got true value "
      ],
      "metadata": {
        "id": "WwmsAc7R58XV"
      }
    },
    {
      "cell_type": "markdown",
      "source": [
        "Lets try again by putting value of (5,0) in equation $$y=2x-10$$"
      ],
      "metadata": {
        "id": "6hnCCvtN62AE"
      }
    },
    {
      "cell_type": "code",
      "source": [
        "0==2*5-10"
      ],
      "metadata": {
        "id": "oeWNPmoK7DDD",
        "outputId": "2cb75ed8-48a2-43e5-e18e-e38fa68aeef6",
        "colab": {
          "base_uri": "https://localhost:8080/"
        }
      },
      "execution_count": null,
      "outputs": [
        {
          "output_type": "execute_result",
          "data": {
            "text/plain": [
              "True"
            ]
          },
          "metadata": {},
          "execution_count": 25
        }
      ]
    },
    {
      "cell_type": "markdown",
      "source": [
        "since both value are true so (0,-10) is the y intercept of given equation $$y=2x-10$$"
      ],
      "metadata": {
        "id": "EsuHRxI77HLN"
      }
    },
    {
      "cell_type": "markdown",
      "source": [
        "using the contradction,\n",
        "\n",
        "while we compare given equation $$y=2x-10$$ which have (0,-10) as a y-intercept\n",
        "\n",
        "with this equatuin $$y=mx=b$$\n",
        "\n",
        "will going to have y- intercept of (0,b)\n",
        "\n",
        "\n",
        "\n"
      ],
      "metadata": {
        "id": "OcJlPEtC8PJM"
      }
    }
  ]
}