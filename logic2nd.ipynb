{
  "nbformat": 4,
  "nbformat_minor": 0,
  "metadata": {
    "colab": {
      "name": "Untitled6.ipynb",
      "provenance": [],
      "authorship_tag": "ABX9TyM9GypxaHi79O2mBzqo0nRa",
      "include_colab_link": true
    },
    "kernelspec": {
      "name": "python3",
      "display_name": "Python 3"
    },
    "language_info": {
      "name": "python"
    }
  },
  "cells": [
    {
      "cell_type": "markdown",
      "metadata": {
        "id": "view-in-github",
        "colab_type": "text"
      },
      "source": [
        "<a href=\"https://colab.research.google.com/github/ashpou1/discrete-math/blob/main/logic2nd.ipynb\" target=\"_parent\"><img src=\"https://colab.research.google.com/assets/colab-badge.svg\" alt=\"Open In Colab\"/></a>"
      ]
    },
    {
      "cell_type": "markdown",
      "metadata": {
        "id": "Mbsa340a_t6N"
      },
      "source": [
        "##LOGIC"
      ]
    },
    {
      "cell_type": "markdown",
      "metadata": {
        "id": "yWVWq8JJACqY"
      },
      "source": [
        "I have certain plan for this week. I do not have alot of college stuff to get done this week. I have plans like going to Arkansa to see fall color in Ochita montains, go to Dallas to get me some gorcery, finish my homework problems of Numbers, finish my project of fencinng my front yard, finish my garage project to convert in to my gym room, get my dog to park everyday. So i will call them $a$,$b$,$c$,$d$,$e$ respectively. so lets see "
      ]
    },
    {
      "cell_type": "code",
      "metadata": {
        "id": "5g_y0TTg__SX"
      },
      "source": [
        "WillgotoArkansas = False\n",
        "WillgotoDallas = True\n",
        "Finishmyfrontyard = True\n",
        "Finishmygarage = False\n",
        "Finishmynumbers = True"
      ],
      "execution_count": null,
      "outputs": []
    },
    {
      "cell_type": "markdown",
      "metadata": {
        "id": "ve-wU11PB7qk"
      },
      "source": [
        "lets use \"NOT\" to find the truth value of $\\lnot(a)$"
      ]
    },
    {
      "cell_type": "code",
      "metadata": {
        "colab": {
          "base_uri": "https://localhost:8080/"
        },
        "id": "Qnvc9zpf_Dpl",
        "outputId": "f2866700-9599-44cc-e8ad-2cd29677ae77"
      },
      "source": [
        "not(WillgotoArkansas)"
      ],
      "execution_count": null,
      "outputs": [
        {
          "output_type": "execute_result",
          "data": {
            "text/plain": [
              "True"
            ]
          },
          "metadata": {},
          "execution_count": 2
        }
      ]
    },
    {
      "cell_type": "markdown",
      "metadata": {
        "id": "zbPk4FTjDVDY"
      },
      "source": [
        "Lets use \"`AND`\" to find the truth value of \n",
        "\n",
        "$$b \\land e$$"
      ]
    },
    {
      "cell_type": "code",
      "metadata": {
        "colab": {
          "base_uri": "https://localhost:8080/"
        },
        "id": "N1mBrLrYDj_s",
        "outputId": "7e5b3626-d3ac-4cf0-a598-1d5c75081f11"
      },
      "source": [
        "(WillgotoDallas) and (Finishmynumbers)"
      ],
      "execution_count": null,
      "outputs": [
        {
          "output_type": "execute_result",
          "data": {
            "text/plain": [
              "True"
            ]
          },
          "metadata": {},
          "execution_count": 3
        }
      ]
    },
    {
      "cell_type": "markdown",
      "metadata": {
        "id": "whJW1-4VHRnD"
      },
      "source": [
        "Lets use \"`OR`\" to find the truth value of \n",
        "\n",
        "$$c \\lor d$$"
      ]
    },
    {
      "cell_type": "code",
      "metadata": {
        "colab": {
          "base_uri": "https://localhost:8080/"
        },
        "id": "i2Qx3-caIANK",
        "outputId": "affbbcc8-bf8a-415d-b5a9-5023820a9c6d"
      },
      "source": [
        "(Finishmyfrontyard) or (Finishmygarage)"
      ],
      "execution_count": null,
      "outputs": [
        {
          "output_type": "execute_result",
          "data": {
            "text/plain": [
              "True"
            ]
          },
          "metadata": {},
          "execution_count": 4
        }
      ]
    },
    {
      "cell_type": "markdown",
      "metadata": {
        "id": "oxLTlS9uFew-"
      },
      "source": [
        "Lets do some equivalent of $WillgotoDallas$ to $WillgotoArkansas$\n",
        "\n",
        "$$b \\Rightarrow a$$"
      ]
    },
    {
      "cell_type": "code",
      "metadata": {
        "id": "izWFRJFHFsLV",
        "outputId": "b7d923a1-80ef-4cab-db90-fa1f492406e4",
        "colab": {
          "base_uri": "https://localhost:8080/"
        }
      },
      "source": [
        "def implies(b,a):\n",
        "  return not(b) or (a)\n",
        "implies(WillgotoDallas,WillgotoArkansas)"
      ],
      "execution_count": null,
      "outputs": [
        {
          "output_type": "execute_result",
          "data": {
            "text/plain": [
              "False"
            ]
          },
          "metadata": {},
          "execution_count": 11
        }
      ]
    },
    {
      "cell_type": "markdown",
      "metadata": {
        "id": "h-qoo3q2Gbz_"
      },
      "source": [
        "lets work for truth table for $not(willgotoDallas NOT willgotoArknasas)equivalent to (WillgotoArkansasORfinishmyfrontyard)$\n"
      ]
    },
    {
      "cell_type": "markdown",
      "metadata": {
        "id": "QDb09crlLedO"
      },
      "source": [
        "$$\\lnot(a\\oplus b) \\Rightarrow (b\\lor c)$$:"
      ]
    },
    {
      "cell_type": "code",
      "metadata": {
        "id": "1kML3mW-LnXP",
        "outputId": "5270dda3-08f6-484d-9d2e-93609c3914fd",
        "colab": {
          "base_uri": "https://localhost:8080/"
        }
      },
      "source": [
        "values = [True,False]\n",
        "table = []\n",
        "\n",
        "for c in values:\n",
        "  for b in values:\n",
        "    for a in values: \n",
        "      row =[]\n",
        "      row.append(a)\n",
        "      row.append(b)\n",
        "      row.append(c)\n",
        "      row.append(a ^ b)\n",
        "      row.append(not(a ^ b))\n",
        "      row.append(b or c)\n",
        "      row.append(implies(not(a ^ b),b or c))\n",
        "      table.append(row)\n",
        "print(table)"
      ],
      "execution_count": null,
      "outputs": [
        {
          "output_type": "stream",
          "name": "stdout",
          "text": [
            "[[True, True, True, False, True, True, True], [False, True, True, True, False, True, True], [True, False, True, True, False, True, True], [False, False, True, False, True, True, True], [True, True, False, False, True, True, True], [False, True, False, True, False, True, True], [True, False, False, True, False, False, True], [False, False, False, False, True, False, False]]\n"
          ]
        }
      ]
    },
    {
      "cell_type": "code",
      "metadata": {
        "id": "3dNgGcGlLd-G",
        "colab": {
          "base_uri": "https://localhost:8080/",
          "height": 300
        },
        "outputId": "c516de48-73ad-403b-b843-494cb6f8df9d"
      },
      "source": [
        "import pandas as pd\n",
        "\n",
        "df = pd.DataFrame(table,columns = ['c','b','a','$a\\oplus b$','$\\lnot(a\\oplus b)$','$b\\lor c$','$\\lnot(a\\oplus b) \\Rightarrow (b\\lor c)$'] )\n",
        "df"
      ],
      "execution_count": null,
      "outputs": [
        {
          "output_type": "execute_result",
          "data": {
            "text/html": [
              "<div>\n",
              "<style scoped>\n",
              "    .dataframe tbody tr th:only-of-type {\n",
              "        vertical-align: middle;\n",
              "    }\n",
              "\n",
              "    .dataframe tbody tr th {\n",
              "        vertical-align: top;\n",
              "    }\n",
              "\n",
              "    .dataframe thead th {\n",
              "        text-align: right;\n",
              "    }\n",
              "</style>\n",
              "<table border=\"1\" class=\"dataframe\">\n",
              "  <thead>\n",
              "    <tr style=\"text-align: right;\">\n",
              "      <th></th>\n",
              "      <th>c</th>\n",
              "      <th>b</th>\n",
              "      <th>a</th>\n",
              "      <th>$a\\oplus b$</th>\n",
              "      <th>$\\lnot(a\\loplus b)$</th>\n",
              "      <th>$b\\lor c$</th>\n",
              "      <th>$\\lnot(a\\oplus b) \\Rightarrow (b\\lor c)$</th>\n",
              "    </tr>\n",
              "  </thead>\n",
              "  <tbody>\n",
              "    <tr>\n",
              "      <th>0</th>\n",
              "      <td>True</td>\n",
              "      <td>True</td>\n",
              "      <td>True</td>\n",
              "      <td>False</td>\n",
              "      <td>True</td>\n",
              "      <td>True</td>\n",
              "      <td>True</td>\n",
              "    </tr>\n",
              "    <tr>\n",
              "      <th>1</th>\n",
              "      <td>False</td>\n",
              "      <td>True</td>\n",
              "      <td>True</td>\n",
              "      <td>True</td>\n",
              "      <td>False</td>\n",
              "      <td>True</td>\n",
              "      <td>True</td>\n",
              "    </tr>\n",
              "    <tr>\n",
              "      <th>2</th>\n",
              "      <td>True</td>\n",
              "      <td>False</td>\n",
              "      <td>True</td>\n",
              "      <td>True</td>\n",
              "      <td>False</td>\n",
              "      <td>True</td>\n",
              "      <td>True</td>\n",
              "    </tr>\n",
              "    <tr>\n",
              "      <th>3</th>\n",
              "      <td>False</td>\n",
              "      <td>False</td>\n",
              "      <td>True</td>\n",
              "      <td>False</td>\n",
              "      <td>True</td>\n",
              "      <td>True</td>\n",
              "      <td>True</td>\n",
              "    </tr>\n",
              "    <tr>\n",
              "      <th>4</th>\n",
              "      <td>True</td>\n",
              "      <td>True</td>\n",
              "      <td>False</td>\n",
              "      <td>False</td>\n",
              "      <td>True</td>\n",
              "      <td>True</td>\n",
              "      <td>True</td>\n",
              "    </tr>\n",
              "    <tr>\n",
              "      <th>5</th>\n",
              "      <td>False</td>\n",
              "      <td>True</td>\n",
              "      <td>False</td>\n",
              "      <td>True</td>\n",
              "      <td>False</td>\n",
              "      <td>True</td>\n",
              "      <td>True</td>\n",
              "    </tr>\n",
              "    <tr>\n",
              "      <th>6</th>\n",
              "      <td>True</td>\n",
              "      <td>False</td>\n",
              "      <td>False</td>\n",
              "      <td>True</td>\n",
              "      <td>False</td>\n",
              "      <td>False</td>\n",
              "      <td>True</td>\n",
              "    </tr>\n",
              "    <tr>\n",
              "      <th>7</th>\n",
              "      <td>False</td>\n",
              "      <td>False</td>\n",
              "      <td>False</td>\n",
              "      <td>False</td>\n",
              "      <td>True</td>\n",
              "      <td>False</td>\n",
              "      <td>False</td>\n",
              "    </tr>\n",
              "  </tbody>\n",
              "</table>\n",
              "</div>"
            ],
            "text/plain": [
              "       c      b  ...  $b\\lor c$  $\\lnot(a\\oplus b) \\Rightarrow (b\\lor c)$\n",
              "0   True   True  ...       True                                      True\n",
              "1  False   True  ...       True                                      True\n",
              "2   True  False  ...       True                                      True\n",
              "3  False  False  ...       True                                      True\n",
              "4   True   True  ...       True                                      True\n",
              "5  False   True  ...       True                                      True\n",
              "6   True  False  ...      False                                      True\n",
              "7  False  False  ...      False                                     False\n",
              "\n",
              "[8 rows x 7 columns]"
            ]
          },
          "metadata": {},
          "execution_count": 30
        }
      ]
    }
  ]
}