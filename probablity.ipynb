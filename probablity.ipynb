{
  "nbformat": 4,
  "nbformat_minor": 0,
  "metadata": {
    "colab": {
      "name": "Untitled3.ipynb",
      "provenance": [],
      "authorship_tag": "ABX9TyOFgANyQv9anHDOldzaiO3w",
      "include_colab_link": true
    },
    "kernelspec": {
      "name": "python3",
      "display_name": "Python 3"
    },
    "language_info": {
      "name": "python"
    }
  },
  "cells": [
    {
      "cell_type": "markdown",
      "metadata": {
        "id": "view-in-github",
        "colab_type": "text"
      },
      "source": [
        "<a href=\"https://colab.research.google.com/github/ashpou1/discrete-math/blob/main/probablity.ipynb\" target=\"_parent\"><img src=\"https://colab.research.google.com/assets/colab-badge.svg\" alt=\"Open In Colab\"/></a>"
      ]
    },
    {
      "cell_type": "markdown",
      "metadata": {
        "id": "pQyUDI2e-x8z"
      },
      "source": [
        "## PROBABLITY AND COUNTING PROJECT 2 \n",
        "##CPSMA 3133 DISCRETE MATH\n",
        "## ASHOK SHARMA POUDEL\n"
      ]
    },
    {
      "cell_type": "markdown",
      "metadata": {
        "id": "ekWT-Bf___a_"
      },
      "source": [
        "  Lets check my monday of 09/27/2021. I have few things that I was suppose to be doing. like \n",
        "  1. car wash and clean and put new seat covers. \n",
        "  2. work on the project.\n",
        "  3. just be lazy and go run with my dog in wintersmith park.\n",
        "  ---\n",
        "\n",
        "  Now, probablity of task 1, 2 ,3 will be,\n",
        "  \n",
        "$p(c)$=$\\frac13$,\n",
        "\n",
        "$p(p)$=$\\frac13$,\n",
        "\n",
        "$p(d)$=$\\frac13$;\n",
        "\n",
        "  respectively. \n"
      ]
    },
    {
      "cell_type": "code",
      "metadata": {
        "id": "fikz4s8W-wgE"
      },
      "source": [
        "p =[1/3,1/3,1/3]"
      ],
      "execution_count": 1,
      "outputs": []
    },
    {
      "cell_type": "code",
      "metadata": {
        "colab": {
          "base_uri": "https://localhost:8080/"
        },
        "id": "k-fCNjAqFBzU",
        "outputId": "27e5f442-7f39-4f95-8b54-d2f1fccc2cb7"
      },
      "source": [
        "sum(p) #if we sum all porobablity it should come 1."
      ],
      "execution_count": 4,
      "outputs": [
        {
          "output_type": "execute_result",
          "data": {
            "text/plain": [
              "1.0"
            ]
          },
          "metadata": {},
          "execution_count": 4
        }
      ]
    },
    {
      "cell_type": "markdown",
      "metadata": {
        "id": "DbfQPuJLFILl"
      },
      "source": [
        "##Compound event with events. lets call it Probablity $A$"
      ]
    },
    {
      "cell_type": "code",
      "metadata": {
        "colab": {
          "base_uri": "https://localhost:8080/"
        },
        "id": "WO5tgCSVGhSM",
        "outputId": "007a0d36-5323-43f0-a4ad-0a9da1fef2fc"
      },
      "source": [
        "ProbabilityA = 0\n",
        "\n",
        "for i in [0,2]:\n",
        "  ProbabilityA += p[i]\n",
        "\n",
        "ProbabilityR"
      ],
      "execution_count": 7,
      "outputs": [
        {
          "output_type": "execute_result",
          "data": {
            "text/plain": [
              "0.6666666666666666"
            ]
          },
          "metadata": {},
          "execution_count": 7
        }
      ]
    },
    {
      "cell_type": "markdown",
      "metadata": {
        "id": "v3YbPnp_HQv2"
      },
      "source": [
        "the probability of a clean car given you get another roll\n",
        "\n",
        "$$\n",
        "P(C|P)=\\frac{P(C\\cap P)}{P(P)}\n",
        "$$"
      ]
    },
    {
      "cell_type": "code",
      "metadata": {
        "colab": {
          "base_uri": "https://localhost:8080/"
        },
        "id": "ivV-0g2YHz6I",
        "outputId": "70629d8b-c935-4f35-ec5e-827e342e848d"
      },
      "source": [
        "1/3/ProbabilityA"
      ],
      "execution_count": 8,
      "outputs": [
        {
          "output_type": "execute_result",
          "data": {
            "text/plain": [
              "0.5"
            ]
          },
          "metadata": {},
          "execution_count": 8
        }
      ]
    },
    {
      "cell_type": "markdown",
      "metadata": {
        "id": "xluh6f6JH_nn"
      },
      "source": [
        "the probability of a work in project given you get another roll\n",
        "\n",
        "$$\n",
        "P(P|P)=\\frac{P(P\\cap P)}{P(P)}\n",
        "$$"
      ]
    },
    {
      "cell_type": "code",
      "metadata": {
        "colab": {
          "base_uri": "https://localhost:8080/"
        },
        "id": "TEzxMskjIQHc",
        "outputId": "fa4aee27-07c1-48a4-befa-50d53ceb32ca"
      },
      "source": [
        "1/3/ProbabilityA"
      ],
      "execution_count": 9,
      "outputs": [
        {
          "output_type": "execute_result",
          "data": {
            "text/plain": [
              "0.5"
            ]
          },
          "metadata": {},
          "execution_count": 9
        }
      ]
    },
    {
      "cell_type": "markdown",
      "metadata": {
        "id": "hwW0DkLMIApl"
      },
      "source": [
        "the probability of a be lazy given you get another roll\n",
        "\n",
        "$$\n",
        "P(D|P)=\\frac{P(D\\cap P)}{P(P)}\n",
        "$$"
      ]
    },
    {
      "cell_type": "code",
      "metadata": {
        "colab": {
          "base_uri": "https://localhost:8080/"
        },
        "id": "0aEtosMNIYiK",
        "outputId": "d5f6a3ec-eaed-4891-a846-c6d506f6dcba"
      },
      "source": [
        "1/3/ProbabilityA"
      ],
      "execution_count": 10,
      "outputs": [
        {
          "output_type": "execute_result",
          "data": {
            "text/plain": [
              "0.5"
            ]
          },
          "metadata": {},
          "execution_count": 10
        }
      ]
    }
  ]
}