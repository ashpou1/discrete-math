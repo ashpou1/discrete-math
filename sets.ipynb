{
  "nbformat": 4,
  "nbformat_minor": 0,
  "metadata": {
    "colab": {
      "name": "sets.ipynb",
      "provenance": [],
      "collapsed_sections": []
    },
    "kernelspec": {
      "name": "python3",
      "display_name": "Python 3"
    },
    "language_info": {
      "name": "python"
    }
  },
  "cells": [
    {
      "cell_type": "markdown",
      "metadata": {
        "id": "SFOMKPmHLCqX"
      },
      "source": [
        "# Project Part  **1** # : CPSMA 3133 Discrete Mathematics \n",
        "\n",
        "## Sets, Relations and Functions\n",
        "\n",
        "### Ashok sharma poudel"
      ]
    },
    {
      "cell_type": "markdown",
      "metadata": {
        "id": "Gs89pWgpg-5E"
      },
      "source": [
        "**SETS**\n",
        "lets imagine 3 sets \n",
        "\n",
        "**A** represent cast of peaky blinders\n",
        "\n",
        "**B** represent cast of lucifer\n",
        "\n",
        "**C** represent cast of bodyguard\n",
        "\n",
        "these all are the season of nitfliex\n"
      ]
    },
    {
      "cell_type": "code",
      "metadata": {
        "id": "zvFs9wvrhAoh"
      },
      "source": [
        "A = ['TOMMMY','POLLLY','AUTHOR','ADA','JHON','CHOLE']\n",
        "B = ['LUCIFER','CHOLE','MAZIKEEN','DAN','LINDA',]\n",
        "C = ['DAVID','VICKY','CHANEL','LOUISE','CHOLE']"
      ],
      "execution_count": null,
      "outputs": []
    },
    {
      "cell_type": "markdown",
      "metadata": {
        "id": "x-07rOaAkDwk"
      },
      "source": [
        "My universal set is the cast of netflix season peaky blinders, lucifer and bodyguard.\n",
        "\n",
        "Union will have all the cast who played in seasons but there will be no double name of cast. "
      ]
    },
    {
      "cell_type": "code",
      "metadata": {
        "colab": {
          "base_uri": "https://localhost:8080/"
        },
        "id": "5ve2VnHrkufF",
        "outputId": "e63a5599-41d0-402e-9722-05ae44e8d3a0"
      },
      "source": [
        "SetofSets = [A,B,C]\n",
        "U = []\n",
        "for sett in SetofSets:\n",
        "  for character in sett:\n",
        "    U.append(character)\n",
        "\n",
        "set(U)"
      ],
      "execution_count": null,
      "outputs": [
        {
          "output_type": "execute_result",
          "data": {
            "text/plain": [
              "{'ADA',\n",
              " 'AUTHOR',\n",
              " 'CHANEL',\n",
              " 'CHOLE',\n",
              " 'DAN',\n",
              " 'DAVID',\n",
              " 'JHON',\n",
              " 'LINDA',\n",
              " 'LOUISE',\n",
              " 'LUCIFER',\n",
              " 'MAZIKEEN',\n",
              " 'POLLLY',\n",
              " 'TOMMMY',\n",
              " 'VICKY'}"
            ]
          },
          "metadata": {},
          "execution_count": 58
        }
      ]
    },
    {
      "cell_type": "markdown",
      "metadata": {
        "id": "Eo6mePWklJvl"
      },
      "source": [
        "UNION OF A AND B, B AND C, A AND C"
      ]
    },
    {
      "cell_type": "code",
      "metadata": {
        "colab": {
          "base_uri": "https://localhost:8080/"
        },
        "id": "6r43jdjtlMzl",
        "outputId": "8a93cafd-b047-42ed-e55b-525e7964cd24"
      },
      "source": [
        "AUB = []\n",
        "for character in A:\n",
        "  AUB.append(character) #Add all characters from A\n",
        "for character in B:\n",
        "  AUB.append(character) # Add all characters from B\n",
        "\n",
        "AUB = set(AUB) #change the list to a set removes duplicates and alphabetize\n",
        "\n",
        "AUB "
      ],
      "execution_count": null,
      "outputs": [
        {
          "output_type": "execute_result",
          "data": {
            "text/plain": [
              "{'ADA',\n",
              " 'AUTHOR',\n",
              " 'CHOLE',\n",
              " 'DAN',\n",
              " 'JHON',\n",
              " 'LINDA',\n",
              " 'LUCIFER',\n",
              " 'MAZIKEEN',\n",
              " 'POLLLY',\n",
              " 'TOMMMY'}"
            ]
          },
          "metadata": {},
          "execution_count": 59
        }
      ]
    },
    {
      "cell_type": "markdown",
      "metadata": {
        "id": "1Feo11RPMa3h"
      },
      "source": [
        "**AUB** represent cast from peaky blinders and lucifer"
      ]
    },
    {
      "cell_type": "code",
      "metadata": {
        "colab": {
          "base_uri": "https://localhost:8080/"
        },
        "id": "ZSVtIFz0mbME",
        "outputId": "41ace984-f9bf-4a9a-eef0-44ee891cf3f1"
      },
      "source": [
        "BUC = []\n",
        "for character in B:\n",
        "  BUC.append(character) #Add all characters from A\n",
        "for character in C:\n",
        "  BUC.append(character) # Add all characters from B\n",
        "\n",
        "BUC = set(BUC) #change the list to a set removes duplicates and alphabetize\n",
        "\n",
        "BUC "
      ],
      "execution_count": null,
      "outputs": [
        {
          "output_type": "execute_result",
          "data": {
            "text/plain": [
              "{'CHANEL',\n",
              " 'CHOLE',\n",
              " 'DAN',\n",
              " 'DAVID',\n",
              " 'LINDA',\n",
              " 'LOUISE',\n",
              " 'LUCIFER',\n",
              " 'MAZIKEEN',\n",
              " 'VICKY'}"
            ]
          },
          "metadata": {},
          "execution_count": 60
        }
      ]
    },
    {
      "cell_type": "markdown",
      "metadata": {
        "id": "LIYEqylWMo4V"
      },
      "source": [
        "**BUC** represent cast from lucifer and bodyguard"
      ]
    },
    {
      "cell_type": "code",
      "metadata": {
        "colab": {
          "base_uri": "https://localhost:8080/"
        },
        "id": "8atXv32emvcs",
        "outputId": "06cee5e4-1258-422c-ad8d-efe08935d5fe"
      },
      "source": [
        "AUC = []\n",
        "for character in A:\n",
        "  AUC.append(character) #Add all characters from A\n",
        "for character in C:\n",
        "  AUC.append(character) # Add all characters from C\n",
        "\n",
        "AUC = set(AUC) #change the list to a set removes duplicates and alphabetize\n",
        "\n",
        "AUC "
      ],
      "execution_count": null,
      "outputs": [
        {
          "output_type": "execute_result",
          "data": {
            "text/plain": [
              "{'ADA',\n",
              " 'AUTHOR',\n",
              " 'CHANEL',\n",
              " 'CHOLE',\n",
              " 'DAVID',\n",
              " 'JHON',\n",
              " 'LOUISE',\n",
              " 'POLLLY',\n",
              " 'TOMMMY',\n",
              " 'VICKY'}"
            ]
          },
          "metadata": {},
          "execution_count": 61
        }
      ]
    },
    {
      "cell_type": "markdown",
      "metadata": {
        "id": "cqG9S_OqMymM"
      },
      "source": [
        "**AUC** represent cast from peaky blinders and bodyguard"
      ]
    },
    {
      "cell_type": "markdown",
      "metadata": {
        "id": "FBsmAsD7nEyZ"
      },
      "source": [
        "INTERSECTION OF A AND B, B AND C, A AND C\n"
      ]
    },
    {
      "cell_type": "code",
      "metadata": {
        "colab": {
          "base_uri": "https://localhost:8080/"
        },
        "id": "HHERNBANnLgl",
        "outputId": "355f805c-a1a1-49ef-c638-2e518fd053e2"
      },
      "source": [
        "ACapB = []\n",
        "for character in A:\n",
        "  if character in B:\n",
        "    ACapB.append(character)\n",
        "\n",
        "ACapB"
      ],
      "execution_count": null,
      "outputs": [
        {
          "output_type": "execute_result",
          "data": {
            "text/plain": [
              "['CHOLE']"
            ]
          },
          "metadata": {},
          "execution_count": 62
        }
      ]
    },
    {
      "cell_type": "code",
      "metadata": {
        "colab": {
          "base_uri": "https://localhost:8080/"
        },
        "id": "c6CTKMEunUQS",
        "outputId": "efe1a014-1042-4baa-b8c0-a800b4ea97b7"
      },
      "source": [
        "BCapC = []\n",
        "for character in B:\n",
        "  if character in C:\n",
        "    BCapC.append(character)\n",
        "\n",
        "BCapC"
      ],
      "execution_count": null,
      "outputs": [
        {
          "output_type": "execute_result",
          "data": {
            "text/plain": [
              "['CHOLE']"
            ]
          },
          "metadata": {},
          "execution_count": 63
        }
      ]
    },
    {
      "cell_type": "code",
      "metadata": {
        "colab": {
          "base_uri": "https://localhost:8080/"
        },
        "id": "QZvByAonncds",
        "outputId": "c415a380-8c67-45a2-897d-1ae3ec3ada22"
      },
      "source": [
        "ACapC = []\n",
        "for character in A:\n",
        "  if character in C:\n",
        "    ACapC.append(character)\n",
        "\n",
        "ACapC"
      ],
      "execution_count": null,
      "outputs": [
        {
          "output_type": "execute_result",
          "data": {
            "text/plain": [
              "['CHOLE']"
            ]
          },
          "metadata": {},
          "execution_count": 64
        }
      ]
    },
    {
      "cell_type": "markdown",
      "metadata": {
        "id": "PZ3chspWM546"
      },
      "source": [
        "**A**innterection **B** represent common cast from peaky blinders and lucifer\n",
        "\n",
        "**B** interection **C** represent common cast from lucifer and bodyguard\n",
        "\n",
        "**A** interection **C** represent common cast of peaky blinders and bodyguard"
      ]
    },
    {
      "cell_type": "markdown",
      "metadata": {
        "id": "8LahGplooFmk"
      },
      "source": [
        "COMPLEMENT OF A, B AND C "
      ]
    },
    {
      "cell_type": "code",
      "metadata": {
        "colab": {
          "base_uri": "https://localhost:8080/"
        },
        "id": "o4tkQF_KntAy",
        "outputId": "056dada3-606d-4e38-91e0-c1448aef9b29"
      },
      "source": [
        "AComplement =[]\n",
        "\n",
        "for character in U:\n",
        "  if character not in A:\n",
        "    AComplement.append(character)\n",
        "\n",
        "AComplement"
      ],
      "execution_count": null,
      "outputs": [
        {
          "output_type": "execute_result",
          "data": {
            "text/plain": [
              "['LUCIFER', 'MAZIKEEN', 'DAN', 'LINDA', 'DAVID', 'VICKY', 'CHANEL', 'LOUISE']"
            ]
          },
          "metadata": {},
          "execution_count": 65
        }
      ]
    },
    {
      "cell_type": "code",
      "metadata": {
        "colab": {
          "base_uri": "https://localhost:8080/"
        },
        "id": "btpO7pKgn47z",
        "outputId": "b8eb4dd9-30e3-4792-fd30-09d4a1d617ea"
      },
      "source": [
        "BComplement =[]\n",
        "\n",
        "for character in U:\n",
        "  if character not in B:\n",
        "    BComplement.append(character)\n",
        "\n",
        "BComplement"
      ],
      "execution_count": null,
      "outputs": [
        {
          "output_type": "execute_result",
          "data": {
            "text/plain": [
              "['TOMMMY',\n",
              " 'POLLLY',\n",
              " 'AUTHOR',\n",
              " 'ADA',\n",
              " 'JHON',\n",
              " 'DAVID',\n",
              " 'VICKY',\n",
              " 'CHANEL',\n",
              " 'LOUISE']"
            ]
          },
          "metadata": {},
          "execution_count": 66
        }
      ]
    },
    {
      "cell_type": "code",
      "metadata": {
        "colab": {
          "base_uri": "https://localhost:8080/"
        },
        "id": "sU7f-uggn-Pd",
        "outputId": "e003e1c6-0d0b-4d95-f31e-82029325efb0"
      },
      "source": [
        "CComplement =[]\n",
        "\n",
        "for character in U:\n",
        "  if character not in C:\n",
        "    CComplement.append(character)\n",
        "\n",
        "CComplement"
      ],
      "execution_count": null,
      "outputs": [
        {
          "output_type": "execute_result",
          "data": {
            "text/plain": [
              "['TOMMMY',\n",
              " 'POLLLY',\n",
              " 'AUTHOR',\n",
              " 'ADA',\n",
              " 'JHON',\n",
              " 'LUCIFER',\n",
              " 'MAZIKEEN',\n",
              " 'DAN',\n",
              " 'LINDA']"
            ]
          },
          "metadata": {},
          "execution_count": 67
        }
      ]
    },
    {
      "cell_type": "markdown",
      "metadata": {
        "id": "WbC_4-prNvj5"
      },
      "source": [
        "**complement of any set** is the element in union but not in certain set like **A,B&C**. "
      ]
    },
    {
      "cell_type": "markdown",
      "metadata": {
        "id": "TqeToQFUvyC8"
      },
      "source": [
        "FINDING IF ANY SET IS SUBSET OF ANY SET.(FALSE means there is not any subset of any set)"
      ]
    },
    {
      "cell_type": "code",
      "metadata": {
        "colab": {
          "base_uri": "https://localhost:8080/"
        },
        "id": "V9JBpRUXuC0L",
        "outputId": "d88cf7e2-f5d4-400b-bbc4-f7acd4605494"
      },
      "source": [
        "set(A).issubset(B),\n",
        "set(B).issubset(C),\n",
        "set(C).issubset(A)"
      ],
      "execution_count": null,
      "outputs": [
        {
          "output_type": "execute_result",
          "data": {
            "text/plain": [
              "False"
            ]
          },
          "metadata": {},
          "execution_count": 69
        }
      ]
    },
    {
      "cell_type": "markdown",
      "metadata": {
        "id": "ZAEKidJIOJOm"
      },
      "source": [
        "**False** means there are no subset of any set. "
      ]
    },
    {
      "cell_type": "markdown",
      "metadata": {
        "id": "OIJNDwucwRta"
      },
      "source": [
        "POWER SET OF U"
      ]
    },
    {
      "cell_type": "code",
      "metadata": {
        "colab": {
          "base_uri": "https://localhost:8080/"
        },
        "id": "b0nz2NPtoSS_",
        "outputId": "6b832abf-8d70-44d6-f84b-cedd5c128512"
      },
      "source": [
        "def powerset(s):\n",
        "    x = len(s)\n",
        "    masks = [2**i for i in range(x)]\n",
        "    for i in range(2**x):\n",
        "        yield [ss for mask, ss in zip(masks, s) if i & mask]\n",
        "\n",
        "print(list(powerset(A)))\n",
        "print(\"\\n\\n Total number of elements in  powerset is:\")\n",
        "print(len(list(powerset(A))))"
      ],
      "execution_count": null,
      "outputs": [
        {
          "output_type": "stream",
          "name": "stdout",
          "text": [
            "[[], ['TOMMMY'], ['POLLLY'], ['TOMMMY', 'POLLLY'], ['AUTHOR'], ['TOMMMY', 'AUTHOR'], ['POLLLY', 'AUTHOR'], ['TOMMMY', 'POLLLY', 'AUTHOR'], ['ADA'], ['TOMMMY', 'ADA'], ['POLLLY', 'ADA'], ['TOMMMY', 'POLLLY', 'ADA'], ['AUTHOR', 'ADA'], ['TOMMMY', 'AUTHOR', 'ADA'], ['POLLLY', 'AUTHOR', 'ADA'], ['TOMMMY', 'POLLLY', 'AUTHOR', 'ADA'], ['JHON'], ['TOMMMY', 'JHON'], ['POLLLY', 'JHON'], ['TOMMMY', 'POLLLY', 'JHON'], ['AUTHOR', 'JHON'], ['TOMMMY', 'AUTHOR', 'JHON'], ['POLLLY', 'AUTHOR', 'JHON'], ['TOMMMY', 'POLLLY', 'AUTHOR', 'JHON'], ['ADA', 'JHON'], ['TOMMMY', 'ADA', 'JHON'], ['POLLLY', 'ADA', 'JHON'], ['TOMMMY', 'POLLLY', 'ADA', 'JHON'], ['AUTHOR', 'ADA', 'JHON'], ['TOMMMY', 'AUTHOR', 'ADA', 'JHON'], ['POLLLY', 'AUTHOR', 'ADA', 'JHON'], ['TOMMMY', 'POLLLY', 'AUTHOR', 'ADA', 'JHON'], ['CHOLE'], ['TOMMMY', 'CHOLE'], ['POLLLY', 'CHOLE'], ['TOMMMY', 'POLLLY', 'CHOLE'], ['AUTHOR', 'CHOLE'], ['TOMMMY', 'AUTHOR', 'CHOLE'], ['POLLLY', 'AUTHOR', 'CHOLE'], ['TOMMMY', 'POLLLY', 'AUTHOR', 'CHOLE'], ['ADA', 'CHOLE'], ['TOMMMY', 'ADA', 'CHOLE'], ['POLLLY', 'ADA', 'CHOLE'], ['TOMMMY', 'POLLLY', 'ADA', 'CHOLE'], ['AUTHOR', 'ADA', 'CHOLE'], ['TOMMMY', 'AUTHOR', 'ADA', 'CHOLE'], ['POLLLY', 'AUTHOR', 'ADA', 'CHOLE'], ['TOMMMY', 'POLLLY', 'AUTHOR', 'ADA', 'CHOLE'], ['JHON', 'CHOLE'], ['TOMMMY', 'JHON', 'CHOLE'], ['POLLLY', 'JHON', 'CHOLE'], ['TOMMMY', 'POLLLY', 'JHON', 'CHOLE'], ['AUTHOR', 'JHON', 'CHOLE'], ['TOMMMY', 'AUTHOR', 'JHON', 'CHOLE'], ['POLLLY', 'AUTHOR', 'JHON', 'CHOLE'], ['TOMMMY', 'POLLLY', 'AUTHOR', 'JHON', 'CHOLE'], ['ADA', 'JHON', 'CHOLE'], ['TOMMMY', 'ADA', 'JHON', 'CHOLE'], ['POLLLY', 'ADA', 'JHON', 'CHOLE'], ['TOMMMY', 'POLLLY', 'ADA', 'JHON', 'CHOLE'], ['AUTHOR', 'ADA', 'JHON', 'CHOLE'], ['TOMMMY', 'AUTHOR', 'ADA', 'JHON', 'CHOLE'], ['POLLLY', 'AUTHOR', 'ADA', 'JHON', 'CHOLE'], ['TOMMMY', 'POLLLY', 'AUTHOR', 'ADA', 'JHON', 'CHOLE']]\n",
            "\n",
            "\n",
            " Total number of elements in  powerset is:\n",
            "64\n"
          ]
        }
      ]
    },
    {
      "cell_type": "markdown",
      "metadata": {
        "id": "1r34vtNOOYeX"
      },
      "source": [
        "This is the power set which includes all the possible subset of U"
      ]
    },
    {
      "cell_type": "markdown",
      "metadata": {
        "id": "bj0x67-NjyVR"
      },
      "source": [
        "**DONE**"
      ]
    },
    {
      "cell_type": "markdown",
      "metadata": {
        "id": "SNstKPph0E2F"
      },
      "source": [
        "2. lets define a **fun**ction:\n",
        "\n",
        "$$\n",
        "        f(x) = \\frac{e^{x}}{(2e^x+1)}\n",
        "$$\n",
        "\n",
        "---\n",
        " features:\n"
      ]
    },
    {
      "cell_type": "code",
      "metadata": {
        "id": "VIuU5MSh0KmH"
      },
      "source": [
        "import math\n",
        "import numpy as np\n",
        "def f(x):\n",
        "  return(np.e**(x)/(2*np.e**x)+1)"
      ],
      "execution_count": null,
      "outputs": []
    },
    {
      "cell_type": "markdown",
      "metadata": {
        "id": "FWM4V-m2Ogr7"
      },
      "source": [
        "i am importing math to do math and numpy to read **e**."
      ]
    },
    {
      "cell_type": "code",
      "metadata": {
        "colab": {
          "base_uri": "https://localhost:8080/"
        },
        "id": "ab6IBkeb5UE-",
        "outputId": "770b55f6-f06c-4529-eb2e-335d309d2e8b"
      },
      "source": [
        "f(0)"
      ],
      "execution_count": null,
      "outputs": [
        {
          "output_type": "execute_result",
          "data": {
            "text/plain": [
              "1.5"
            ]
          },
          "metadata": {},
          "execution_count": 48
        }
      ]
    },
    {
      "cell_type": "code",
      "metadata": {
        "colab": {
          "base_uri": "https://localhost:8080/"
        },
        "id": "ctWOw2WP5Zls",
        "outputId": "37dad752-66ba-43f5-de09-2e5b71b63921"
      },
      "source": [
        "f(2)"
      ],
      "execution_count": null,
      "outputs": [
        {
          "output_type": "execute_result",
          "data": {
            "text/plain": [
              "1.5"
            ]
          },
          "metadata": {},
          "execution_count": 47
        }
      ]
    },
    {
      "cell_type": "markdown",
      "metadata": {
        "id": "aA3THEDtOMCw"
      },
      "source": [
        "Seems like whichever the value of domain(x) will be the range(y) will be the same. so we can say it is **Onto** function not **One to one** nor **Bijective**. no we cannot change domain and range to make it **Bijective**"
      ]
    },
    {
      "cell_type": "code",
      "metadata": {
        "colab": {
          "base_uri": "https://localhost:8080/",
          "height": 282
        },
        "id": "n0nbfQVAcHjr",
        "outputId": "a36776d3-c9c6-4b3b-a96f-f92c7360f232"
      },
      "source": [
        "import matplotlib.pyplot as plt\n",
        "f = np.vectorize(f)\n",
        "x = np.arange(-4,4,.1)\n",
        "\n",
        "plt.plot(x,f(x))"
      ],
      "execution_count": null,
      "outputs": [
        {
          "output_type": "execute_result",
          "data": {
            "text/plain": [
              "[<matplotlib.lines.Line2D at 0x7f3a94b4a650>]"
            ]
          },
          "metadata": {},
          "execution_count": 21
        },
        {
          "output_type": "display_data",
          "data": {
            "image/png": "[encoded data removed]",
            "text/plain": [
              "<Figure size 432x288 with 1 Axes>"
            ]
          },
          "metadata": {
            "needs_background": "light"
          }
        }
      ]
    },
    {
      "cell_type": "markdown",
      "metadata": {
        "id": "CbMVPrRLcr5g"
      },
      "source": [
        "I used np.vectorize for this graph. np.vectorize is just a convenience function and basically a for loop That will be inefficient over large arrays. Whenever you have the possibility, use truly vectorized functions"
      ]
    },
    {
      "cell_type": "markdown",
      "metadata": {
        "id": "gXbiyIrwQRe3"
      },
      "source": [
        "**The inverse of the function**:\n",
        "\n",
        "\n",
        "---\n",
        "lets do inverse:\n",
        "$$\n",
        "f(x) = \\frac{e^{x}}{(2e^x+1)}\n",
        "$$\n",
        "lets change $x$ and $y$ for inverse\n",
        "\n",
        "$$\n",
        "x = \\frac{e^{y}}{(2e^y+1)}\n",
        "$$\n",
        "\n",
        "$$\n",
        "\\frac{1}{x} = \\frac{(2e^y+1)}{e^{(y)}}\n",
        "$$\n",
        "\n",
        "$$\n",
        "x^{-1} = \\frac{1}{e^{y}}+2\n",
        "$$\n",
        "\n",
        "$$\n",
        "x^{-1} = e^{-y}+2\n",
        "$$\n",
        "\n",
        "Taking **log** \n",
        "$$\n",
        "-lnx = y*1+ln2\n",
        "$$\n",
        "\n",
        "$$\n",
        "y = ln2+lnx\n",
        "$$\n",
        "\n",
        " **inverse is** $$ f(-1) = (ln2+lnx) $$\n",
        "\n"
      ]
    },
    {
      "cell_type": "code",
      "metadata": {
        "id": "2DHJwV0N0UAv"
      },
      "source": [
        "def fInverse(x):\n",
        "  return np.e**(x)/(math.sqrt(np.e**x+1))"
      ],
      "execution_count": null,
      "outputs": []
    },
    {
      "cell_type": "code",
      "metadata": {
        "colab": {
          "base_uri": "https://localhost:8080/"
        },
        "id": "PvrVi4YG0up3",
        "outputId": "fb2a2794-fa40-49d1-dd17-7c728b4ea28c"
      },
      "source": [
        "fInverse(f(1))"
      ],
      "execution_count": null,
      "outputs": [
        {
          "output_type": "execute_result",
          "data": {
            "text/plain": [
              "1.4096890613993713"
            ]
          },
          "metadata": {},
          "execution_count": 57
        }
      ]
    },
    {
      "cell_type": "markdown",
      "metadata": {
        "id": "rkF0Hm3UO2Gb"
      },
      "source": [
        "I am going to import mathplotlib to plot my gtraph of function and also i have to use np.vectorise."
      ]
    },
    {
      "cell_type": "code",
      "metadata": {
        "colab": {
          "base_uri": "https://localhost:8080/",
          "height": 286
        },
        "id": "Vsp9IKbSbp0k",
        "outputId": "409fa9e6-90a1-4e9e-dd36-1f03ee9410d8"
      },
      "source": [
        "import matplotlib.pyplot as plt\n",
        "\n",
        "x1 = np.arange(0,4,.1)\n",
        "x2 = np.arange(0,.5,.01)\n",
        "f = np.vectorize(f)\n",
        "plt.plot(x1,f(x1))\n",
        "plt.plot(x2,fInverse(x2))\n",
        "plt.plot(x1,x1)\n",
        "\n",
        "plt.xlim(0, 2)\n",
        "plt.ylim(0, 2)"
      ],
      "execution_count": null,
      "outputs": [
        {
          "output_type": "execute_result",
          "data": {
            "text/plain": [
              "(0.0, 2.0)"
            ]
          },
          "metadata": {},
          "execution_count": 19
        },
        {
          "output_type": "display_data",
          "data": {
            "image/png": "[encoded data removed]",
            "text/plain": [
              "<Figure size 432x288 with 1 Axes>"
            ]
          },
          "metadata": {
            "needs_background": "light"
          }
        }
      ]
    },
    {
      "cell_type": "markdown",
      "metadata": {
        "id": "DXdK3EMmb4zI"
      },
      "source": [
        "np.vectorize is used to create this graph. the inverse of the funcution touches function but donot cross it. "
      ]
    },
    {
      "cell_type": "markdown",
      "metadata": {
        "id": "yTLht1sNdfUg"
      },
      "source": [
        "**DONE**\n"
      ]
    },
    {
      "cell_type": "markdown",
      "metadata": {
        "id": "krVjPgVpd7lj"
      },
      "source": [
        " Define a dictionary.\n",
        "\n",
        "(a) Define any dictionary from set A to B from part 1.\n",
        "\n",
        "(b) Is your dictionary a relation, function, or bi-jective function? Why or why not?\n",
        "\n",
        "(c) Is the relation symmetric, reflexive or transitive? Why or why not. Provide an example for each.\n",
        "\n",
        "(d) Apply the dictionary to set C from 1. What happens?"
      ]
    },
    {
      "cell_type": "code",
      "metadata": {
        "id": "Qh4oVGr5eHS5"
      },
      "source": [
        "A = ['TOMMMY','POLLLY','AUTHOR','ADA','JHON','CHOLE']\n",
        "B = ['LUCIFER','CHOLE','MAZIKEEN','DAN','LINDA',]\n",
        "C = ['DAVID','VICKY','CHANEL','LOUISE','CHOLE']\n",
        "\n",
        "dictionary = dict({a:b for a,b in zip(A, B)})"
      ],
      "execution_count": null,
      "outputs": []
    },
    {
      "cell_type": "code",
      "metadata": {
        "colab": {
          "base_uri": "https://localhost:8080/"
        },
        "id": "JKpFkk1qFpDb",
        "outputId": "8a508a20-f9ab-4d54-f48d-5b3f5330f930"
      },
      "source": [
        "dictionary"
      ],
      "execution_count": null,
      "outputs": [
        {
          "output_type": "execute_result",
          "data": {
            "text/plain": [
              "{'ADA': 'DAN',\n",
              " 'AUTHOR': 'MAZIKEEN',\n",
              " 'JHON': 'LINDA',\n",
              " 'POLLLY': 'CHOLE',\n",
              " 'TOMMMY': 'LUCIFER'}"
            ]
          },
          "metadata": {},
          "execution_count": 12
        }
      ]
    },
    {
      "cell_type": "code",
      "metadata": {
        "id": "upPZZ8SSQFCs"
      },
      "source": [
        "dictionary = dict({a:b for a,b in zip(B, C)})"
      ],
      "execution_count": null,
      "outputs": []
    },
    {
      "cell_type": "code",
      "metadata": {
        "colab": {
          "base_uri": "https://localhost:8080/"
        },
        "id": "3Vq1X_bOQIIy",
        "outputId": "b55ae114-bc63-429b-8903-08059b977cfe"
      },
      "source": [
        "dictionary"
      ],
      "execution_count": null,
      "outputs": [
        {
          "output_type": "execute_result",
          "data": {
            "text/plain": [
              "{'CHOLE': 'VICKY',\n",
              " 'DAN': 'LOUISE',\n",
              " 'LINDA': 'CHOLE',\n",
              " 'LUCIFER': 'DAVID',\n",
              " 'MAZIKEEN': 'CHANEL'}"
            ]
          },
          "metadata": {},
          "execution_count": 21
        }
      ]
    },
    {
      "cell_type": "code",
      "metadata": {
        "id": "8yEfGvEPF8sP"
      },
      "source": [
        "actualDictionary = dict({'TOMMMY':'CHOLE','ADA':'MAZIKEEN','POLLLY':'LINDA'})"
      ],
      "execution_count": null,
      "outputs": []
    },
    {
      "cell_type": "code",
      "metadata": {
        "id": "LOBgYHRIG3dq"
      },
      "source": [
        "newList = [actualDictionary.get(x,x) for x in A]"
      ],
      "execution_count": null,
      "outputs": []
    },
    {
      "cell_type": "code",
      "metadata": {
        "colab": {
          "base_uri": "https://localhost:8080/"
        },
        "id": "Fnzsd8TEHG13",
        "outputId": "3d93d88f-d139-4e90-ba2e-285353af903d"
      },
      "source": [
        "newList"
      ],
      "execution_count": null,
      "outputs": [
        {
          "output_type": "execute_result",
          "data": {
            "text/plain": [
              "['CHOLE', 'LINDA', 'AUTHOR', 'MAZIKEEN', 'JHON', 'CHOLE']"
            ]
          },
          "metadata": {},
          "execution_count": 8
        }
      ]
    },
    {
      "cell_type": "code",
      "metadata": {
        "id": "V3L9lkvyHQCj"
      },
      "source": [
        "newlist2 = [actualDictionary.get(x,x) for x in B]"
      ],
      "execution_count": null,
      "outputs": []
    },
    {
      "cell_type": "code",
      "metadata": {
        "colab": {
          "base_uri": "https://localhost:8080/"
        },
        "id": "HYRaCMStHWOf",
        "outputId": "31b0416f-eb9a-44a1-b7e0-69b160f412ae"
      },
      "source": [
        "newlist2"
      ],
      "execution_count": null,
      "outputs": [
        {
          "output_type": "execute_result",
          "data": {
            "text/plain": [
              "['LUCIFER', 'CHOLE', 'MAZIKEEN', 'DAN', 'LINDA']"
            ]
          },
          "metadata": {},
          "execution_count": 10
        }
      ]
    },
    {
      "cell_type": "code",
      "metadata": {
        "id": "mKEgd2x2Jwxc"
      },
      "source": [
        "newlist3 = [actualDictionary.get(x,x) for x in C]"
      ],
      "execution_count": null,
      "outputs": []
    },
    {
      "cell_type": "code",
      "metadata": {
        "colab": {
          "base_uri": "https://localhost:8080/"
        },
        "id": "s1GMx4bQKFox",
        "outputId": "bd993d4a-92f2-40e0-e8e1-e255be34426b"
      },
      "source": [
        "newlist3"
      ],
      "execution_count": null,
      "outputs": [
        {
          "output_type": "execute_result",
          "data": {
            "text/plain": [
              "['DAVID', 'VICKY', 'CHANEL', 'LOUISE', 'CHOLE']"
            ]
          },
          "metadata": {},
          "execution_count": 16
        }
      ]
    },
    {
      "cell_type": "code",
      "metadata": {
        "id": "HQysrLYYPT4Y"
      },
      "source": [
        "dictionary = dict({a:b for a,b in zip(A, C)})"
      ],
      "execution_count": null,
      "outputs": []
    },
    {
      "cell_type": "code",
      "metadata": {
        "colab": {
          "base_uri": "https://localhost:8080/"
        },
        "id": "TGfX7i-rPhQB",
        "outputId": "c478e3a8-389e-477a-c500-2dd5b94df69e"
      },
      "source": [
        "dictionary"
      ],
      "execution_count": null,
      "outputs": [
        {
          "output_type": "execute_result",
          "data": {
            "text/plain": [
              "{'ADA': 'LOUISE',\n",
              " 'AUTHOR': 'CHANEL',\n",
              " 'JHON': 'CHOLE',\n",
              " 'POLLLY': 'VICKY',\n",
              " 'TOMMMY': 'DAVID'}"
            ]
          },
          "metadata": {},
          "execution_count": 23
        }
      ]
    },
    {
      "cell_type": "markdown",
      "metadata": {
        "id": "fPG6mQ6ZHi-u"
      },
      "source": [
        "As we can see few changes but we cant change whole alot of the list. so its neither **onto** nor **bijective** function. \n",
        "The relation is not an endo relation but it is not symmetric **ADA** goes to **MAZIKEEN** but not back. \n",
        "\n",
        "**POLLLY** doesnot transfer to **POLLLY** so its Not reflexive\n",
        "\n",
        "lets see in all dictionary, A and B represent **ADA:DAN**, B and C represent **DAN:LOUISE** and A and C have **ADA:LOUISE** as in function, x to y and y to z result was x to z so it is transitive. "
      ]
    }
  ]
}